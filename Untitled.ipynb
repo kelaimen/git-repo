{
 "cells": [
  {
   "cell_type": "code",
   "execution_count": null,
   "id": "0a915cc0",
   "metadata": {},
   "outputs": [],
   "source": [
    "print(\"Hello world\")"
   ]
  },
  {
   "cell_type": "markdown",
   "id": "c6632e7b",
   "metadata": {},
   "source": [
    "new 2"
   ]
  },
  {
   "cell_type": "code",
   "execution_count": null,
   "id": "e00de6bf",
   "metadata": {},
   "outputs": [],
   "source": [
    "print(\"Test\")"
   ]
  },
  {
   "cell_type": "code",
   "execution_count": null,
   "id": "e8947813",
   "metadata": {},
   "outputs": [],
   "source": [
    "#new"
   ]
  }
 ],
 "metadata": {
  "kernelspec": {
   "display_name": "Python 3 (ipykernel)",
   "language": "python",
   "name": "python3"
  },
  "language_info": {
   "codemirror_mode": {
    "name": "ipython",
    "version": 3
   },
   "file_extension": ".py",
   "mimetype": "text/x-python",
   "name": "python",
   "nbconvert_exporter": "python",
   "pygments_lexer": "ipython3",
   "version": "3.11.5"
  }
 },
 "nbformat": 4,
 "nbformat_minor": 5
}
